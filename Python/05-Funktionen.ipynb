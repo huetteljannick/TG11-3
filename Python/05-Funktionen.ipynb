{
 "cells": [
  {
   "cell_type": "markdown",
   "metadata": {},
   "source": [
    "# **Python**\n",
    "\n",
    "## 4 Funktionen\n",
    "Eine Funktion hat einen Namen und kann Parameter erwarten. Ebenso kann eine Funktion einen Wert zurückgeben."
   ]
  },
  {
   "cell_type": "code",
   "execution_count": null,
   "metadata": {},
   "outputs": [],
   "source": [
    "def fakt(n):\n",
    "    f = 1\n",
    "    while n > 0:\n",
    "        f = f*n\n",
    "        n = n - 1\n",
    "    return f\n",
    "\n",
    "# berechne 5!\n",
    "ergebnis = fakt(5)\n",
    "print(ergebnis)\n",
    "\n",
    "# Binomialkoeffizient\n",
    "b52 = fakt(5)/(fakt(2)*fakt(3))\n",
    "print(\"5 über 2:\",b52)"
   ]
  }
 ],
 "metadata": {
  "language_info": {
   "name": "python"
  }
 },
 "nbformat": 4,
 "nbformat_minor": 2
}
