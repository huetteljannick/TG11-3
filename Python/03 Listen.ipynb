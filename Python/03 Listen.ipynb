{
 "cells": [
  {
   "cell_type": "markdown",
   "metadata": {},
   "source": [
    "# **Python**\n",
    "\n",
    "## 2 Datentypen\n",
    "\n",
    "Python hat weitere Datentypen:\n",
    "\n",
    "- **Sequenzen:**\n",
    "  - `list`: Listen, z.B. `[1, 2, 3]`\n",
    "  - `tuple`: Tupel, z.B. `(1, 2, 3)` (ähnlich wie Listen, nur kann die Länge nicht geändert werden)\n",
    "- **Mappings:**\n",
    "  - `dict`: Wörterbücher, z.B. `{\"vorname\": \"Stefan\", \"nachname\":\"Martin\"}`\n",
    "- **Mengen:**\n",
    "  - `set`: Eine Menge von eindeutigen Werten, z.B. `{1, 2, 3}`\n",
    "\n",
    "### 2.3 Listen\n",
    "\n",
    "Listen gehören zu den grundlegenden Datentypen. Eine Liste ist eine **geordnete** Sammlung von Elementen, die verschiedene Datentypen wie Zahlen, Zeichenketten oder sogar andere Listen enthalten können. Sie ermöglichen es, über eine einzige Variable viele Daten zu speichern und auf diese Werte zuzugreifen.\n",
    "\n",
    "In Python werden Listen in eckigen Klammern erstellt und die Elemente innerhalb der Liste werden durch Kommas getrennt. Zum Beispiel:"
   ]
  },
  {
   "cell_type": "code",
   "execution_count": 15,
   "metadata": {},
   "outputs": [],
   "source": [
    "leere_liste = []\n",
    "\n",
    "meine_liste = [1, 2, 3, 4, 5]"
   ]
  },
  {
   "cell_type": "markdown",
   "metadata": {},
   "source": [
    "### 2.4 Elemente\n",
    "Der Zugriff auf einzelne Elemente in einer Liste erfolgt über deren Index, wobei der Index des ersten Elements 0 ist. Zum Beispiel:"
   ]
  },
  {
   "cell_type": "code",
   "execution_count": 16,
   "metadata": {},
   "outputs": [],
   "source": [
    "erstes_element = meine_liste[0]  # Gibt das erste Element (1) zurück"
   ]
  },
  {
   "cell_type": "markdown",
   "metadata": {},
   "source": [
    "Liste können geändert werden. So kann beispielsweise ein Element an einem bestimmten Index geändert werden:"
   ]
  },
  {
   "cell_type": "code",
   "execution_count": 17,
   "metadata": {},
   "outputs": [],
   "source": [
    "meine_liste[2] = 42  # Ändert das dritte Element (ursprünglich "
   ]
  },
  {
   "cell_type": "markdown",
   "metadata": {},
   "source": [
    "### 2.5 Operationen\n",
    "- **Mitgliedschaftsoperationen:** `in`, `not in` (prüft, ob ein Wert in einer Sequenz vorhanden ist)"
   ]
  },
  {
   "cell_type": "code",
   "execution_count": 18,
   "metadata": {},
   "outputs": [
    {
     "name": "stdout",
     "output_type": "stream",
     "text": [
      "True\n"
     ]
    }
   ],
   "source": [
    "liste = [1,2,3,4,5]\n",
    "print(6 not in liste)"
   ]
  },
  {
   "cell_type": "markdown",
   "metadata": {},
   "source": [
    "#### Länge\n",
    "Um die Länge einer Liste in Python zu erhalten, können Sie die eingebaute Funktion `len()` verwenden:"
   ]
  },
  {
   "cell_type": "code",
   "execution_count": 19,
   "metadata": {},
   "outputs": [
    {
     "name": "stdout",
     "output_type": "stream",
     "text": [
      "5\n"
     ]
    }
   ],
   "source": [
    "laenge_der_liste = len(meine_liste)\n",
    "print(laenge_der_liste)  # Gibt die Länge der Liste (5) aus"
   ]
  },
  {
   "cell_type": "markdown",
   "metadata": {},
   "source": [
    "Hier ist eine Python-Liste mit den Namen der 10 größten Städte Deutschlands, sortiert alphabetisch nach Namen:"
   ]
  },
  {
   "cell_type": "code",
   "execution_count": 20,
   "metadata": {},
   "outputs": [],
   "source": [
    "groesste_staedte_deutschlands = [\n",
    "    \"Berlin\",\n",
    "    \"Hamburg\",\n",
    "    \"Muenchen\",\n",
    "    \"Koeln\",\n",
    "    \"Frankfurt am Main\",\n",
    "    \"Stuttgart\",\n",
    "    \"Duesseldorf\",\n",
    "    \"Dortmund\",\n",
    "    \"Essen\",\n",
    "    \"Leipzig\"\n",
    "]"
   ]
  },
  {
   "cell_type": "markdown",
   "metadata": {},
   "source": [
    "#### Sortieren\n",
    "Um die Listeneinträge alphabetisch zu sortieren, können Sie die Methode `sort()` oder die Funktion `sorted()` verwenden. Hier ist, wie Sie die Listeneinträge alphabetisch sortieren können:"
   ]
  },
  {
   "cell_type": "code",
   "execution_count": 21,
   "metadata": {},
   "outputs": [
    {
     "name": "stdout",
     "output_type": "stream",
     "text": [
      "['Berlin', 'Dortmund', 'Duesseldorf', 'Essen', 'Frankfurt am Main', 'Hamburg', 'Koeln', 'Leipzig', 'Muenchen', 'Stuttgart']\n",
      "['Berlin', 'Dortmund', 'Duesseldorf', 'Essen', 'Frankfurt am Main', 'Hamburg', 'Koeln', 'Leipzig', 'Muenchen', 'Stuttgart']\n"
     ]
    }
   ],
   "source": [
    "# Mit sort() die Liste direkt ändern\n",
    "groesste_staedte_deutschlands.sort()\n",
    "\n",
    "# Oder mit sorted() eine neue sortierte Liste erstellen\n",
    "sortierte_liste = sorted(groesste_staedte_deutschlands)\n",
    "\n",
    "# Ausgabe der sortierten Liste\n",
    "print(groesste_staedte_deutschlands)  # Ändert die ursprüngliche Liste\n",
    "print(sortierte_liste)  # Erstellt eine neue sortierte Liste"
   ]
  },
  {
   "cell_type": "markdown",
   "metadata": {},
   "source": [
    "Die Methode `sort()` ändert die ursprüngliche Liste direkt, während `sorted()` eine neue sortierte Liste erstellt, ohne die ursprüngliche Liste zu ändern. Je nach Ihren Anforderungen können Sie eine der beiden Optionen wählen. In diesem Beispiel wird beides demonstriert.\n",
    "\n",
    "**Ausblick:** Wir werden demnächst selber Sortiermethoden schreiben."
   ]
  }
 ],
 "metadata": {
  "kernelspec": {
   "display_name": "base",
   "language": "python",
   "name": "python3"
  },
  "language_info": {
   "codemirror_mode": {
    "name": "ipython",
    "version": 3
   },
   "file_extension": ".py",
   "mimetype": "text/x-python",
   "name": "python",
   "nbconvert_exporter": "python",
   "pygments_lexer": "ipython3",
   "version": "3.11.4"
  }
 },
 "nbformat": 4,
 "nbformat_minor": 2
}
