{
 "cells": [
  {
   "cell_type": "markdown",
   "metadata": {},
   "source": [
    "# **Python**\n",
    "\n",
    "## 2 Datentypen\n",
    "\n",
    "### 2.1 Einfache Datentypen\n",
    "\n",
    "Python hat eine Reihe von einfachen Datentypen:\n",
    "\n",
    "  - **Zahlen:** \n",
    "    - `int`: Ganzzahlen, z.B. `5`\n",
    "    - `float`: Gleitkommazahlen, z.B. `5.0`\n",
    "  - **Sequenzen:**\n",
    "    - `str`: Zeichenketten, z.B. `\"hello\"`\n",
    "  - **Booleans:**\n",
    "    - `bool`: Wahrheitswerte, z.B. `True` oder `False`\n",
    "  \n",
    "Der Datentyp einer Variable kann in Python mit dem Befehl `type(Variable)` abgefragt werden."
   ]
  },
  {
   "cell_type": "code",
   "execution_count": 1,
   "metadata": {},
   "outputs": [
    {
     "name": "stdout",
     "output_type": "stream",
     "text": [
      "5 <class 'int'>\n",
      "Hello World <class 'str'>\n",
      "20.5 <class 'float'>\n"
     ]
    }
   ],
   "source": [
    "a = 5\n",
    "print(a, type(a))\n",
    "\n",
    "b = \"Hello World\"\n",
    "print(b, type(b))\n",
    "\n",
    "c = 20.5\n",
    "print(c, type(c))"
   ]
  },
  {
   "cell_type": "markdown",
   "metadata": {},
   "source": [
    "### 2.2 Umwandlen von Datentypen\n",
    "1. In Python werden Datentypen nicht fest für eine Variable beim Erstellen der Variable vergeben, sondern können dynamisch geändert werden. Man kann auf Variablen also mehrfach Werte von unterschiedlichen Datentypen 'draufschreiben' und den alten Wert damit überschreiben.\n",
    "2. Werte können mit Befehlen in einen bewünschten Datentyp uzmgewandelt werden:"
   ]
  },
  {
   "cell_type": "code",
   "execution_count": 2,
   "metadata": {},
   "outputs": [
    {
     "name": "stdout",
     "output_type": "stream",
     "text": [
      "3.1415 <class 'float'>\n",
      "3 <class 'int'>\n",
      "3 <class 'int'>\n",
      "3.0 <class 'float'>\n",
      "3 3 3.0 3.0\n"
     ]
    }
   ],
   "source": [
    "a = 3.1415\n",
    "print(a, type(a))\n",
    "\n",
    "b = int(a)\n",
    "print(b, type(b))\n",
    "\n",
    "c = 3\n",
    "print(c, type(c))\n",
    "\n",
    "d = float(c)\n",
    "print(d, type(d))\n",
    "\n",
    "cs = str(c)\n",
    "cd = str(d)\n",
    "print(c,cs,d,cd)\n"
   ]
  },
  {
   "cell_type": "markdown",
   "metadata": {},
   "source": [
    "Der Operator `+` funktioniert in der Regel nur mit gleichen Datentypen:"
   ]
  },
  {
   "cell_type": "code",
   "execution_count": 3,
   "metadata": {},
   "outputs": [
    {
     "name": "stdout",
     "output_type": "stream",
     "text": [
      "3\n",
      "3.0\n"
     ]
    },
    {
     "ename": "TypeError",
     "evalue": "unsupported operand type(s) for +: 'int' and 'str'",
     "output_type": "error",
     "traceback": [
      "\u001b[0;31m---------------------------------------------------------------------------\u001b[0m",
      "\u001b[0;31mTypeError\u001b[0m                                 Traceback (most recent call last)",
      "Cell \u001b[0;32mIn[3], line 3\u001b[0m\n\u001b[1;32m      1\u001b[0m \u001b[38;5;28mprint\u001b[39m (\u001b[38;5;241m1\u001b[39m \u001b[38;5;241m+\u001b[39m \u001b[38;5;241m2\u001b[39m)\n\u001b[1;32m      2\u001b[0m \u001b[38;5;28mprint\u001b[39m (\u001b[38;5;241m1\u001b[39m \u001b[38;5;241m+\u001b[39m \u001b[38;5;241m2.0\u001b[39m)\n\u001b[0;32m----> 3\u001b[0m \u001b[38;5;28mprint\u001b[39m (\u001b[38;5;241;43m1\u001b[39;49m\u001b[43m \u001b[49m\u001b[38;5;241;43m+\u001b[39;49m\u001b[43m \u001b[49m\u001b[38;5;124;43m\"\u001b[39;49m\u001b[38;5;124;43m2\u001b[39;49m\u001b[38;5;124;43m\"\u001b[39;49m)\n",
      "\u001b[0;31mTypeError\u001b[0m: unsupported operand type(s) for +: 'int' and 'str'"
     ]
    }
   ],
   "source": [
    "print (1 + 2)\n",
    "print (1 + 2.0)\n",
    "print (1 + \"2\")\n"
   ]
  },
  {
   "cell_type": "markdown",
   "metadata": {},
   "source": [
    "### 2.3 Datentyp `float`\n",
    "Eine Kommazahl kann auf verschiedene Arten eingegeben werden:\n",
    "\n",
    "Quelle:\n",
    "[Darstellung von Kommazahlen](https://docs.python.org/3/library/functions.html#float.)"
   ]
  },
  {
   "cell_type": "code",
   "execution_count": null,
   "metadata": {},
   "outputs": [
    {
     "name": "stdout",
     "output_type": "stream",
     "text": [
      "1.0\n",
      "2.0\n",
      "0.3\n",
      "400.0\n",
      "0.5\n",
      "60.0\n"
     ]
    }
   ],
   "source": [
    "print(1.0)\n",
    "print(2.)\n",
    "print(.3)\n",
    "print(4e2)\n",
    "print(5e-1)\n",
    "print(6E1)"
   ]
  }
 ],
 "metadata": {
  "kernelspec": {
   "display_name": "Python 3",
   "language": "python",
   "name": "python3"
  },
  "language_info": {
   "codemirror_mode": {
    "name": "ipython",
    "version": 3
   },
   "file_extension": ".py",
   "mimetype": "text/x-python",
   "name": "python",
   "nbconvert_exporter": "python",
   "pygments_lexer": "ipython3",
   "version": "3.12.1"
  }
 },
 "nbformat": 4,
 "nbformat_minor": 2
}
