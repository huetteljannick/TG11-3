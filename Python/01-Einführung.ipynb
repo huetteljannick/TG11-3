{
 "cells": [
  {
   "cell_type": "markdown",
   "metadata": {},
   "source": [
    "# **Python**\n",
    "\n",
    "## 1 Einführung\n",
    "Hier sind die wesentlichen Elemente bezüglich Variablen, Konstanten und Operatoren:"
   ]
  },
  {
   "cell_type": "markdown",
   "metadata": {},
   "source": [
    "### 1.1 Variablen\n",
    "**Deklaration**: In Python werden Variablen durch Zuweisung deklariert, ohne dass ein spezifischer Datentyp angegeben werden muss."
   ]
  },
  {
   "cell_type": "code",
   "execution_count": 15,
   "metadata": {},
   "outputs": [
    {
     "name": "stdout",
     "output_type": "stream",
     "text": [
      "13\n"
     ]
    }
   ],
   "source": [
    "x = 10\n",
    "name = \"Alice\"\n",
    "a = 1 + 2 + x\n",
    "print(a)"
   ]
  },
  {
   "cell_type": "markdown",
   "metadata": {},
   "source": [
    "**Namenskonvention**: Variablennamen sollten mit einem Buchstaben oder einem Unterstrich beginnen und können Buchstaben, Zahlen oder Unterstriche enthalten."
   ]
  },
  {
   "cell_type": "markdown",
   "metadata": {},
   "source": [
    "### 1.2 Konstanten\n",
    "- Python hat keine eingebaute Konstanten-Definition wie einige andere Sprachen.\n",
    "- Konventionell werden Konstanten in Großbuchstaben geschrieben, um sie von Variablen zu unterscheiden"
   ]
  },
  {
   "cell_type": "code",
   "execution_count": 16,
   "metadata": {},
   "outputs": [],
   "source": [
    "PI = 3.14159\n",
    "MAX_SIZE = 100"
   ]
  },
  {
   "cell_type": "markdown",
   "metadata": {},
   "source": [
    "\n",
    "### 1.3 Operationen (Teil 1)**\n",
    "- **Arithmetische Operationen:** `+`, `-`, `*`, `/`, `//` (ganzzahlige Division), `%` (Modulus), `**` (Potenzierung)\n",
    "- **Vergleichsoperationen:** `==`, `!=`, `<`, `>`, `<=`, `>=`\n",
    "- **Logische Operationen:** `and`, `or`, `not`"
   ]
  },
  {
   "cell_type": "code",
   "execution_count": 17,
   "metadata": {},
   "outputs": [],
   "source": [
    "sum = 5 + 3\n",
    "result = 5 > 3\n",
    "noten = (1,2,3,4,5,6)"
   ]
  },
  {
   "cell_type": "markdown",
   "metadata": {},
   "source": [
    "## **6 Funktionen**\n",
    "Eine Funktion hat einen Namen und kann Parameter erwarten. Ebenso kann eine Funktion einen Wert zurückgeben."
   ]
  },
  {
   "cell_type": "code",
   "execution_count": 18,
   "metadata": {},
   "outputs": [
    {
     "name": "stdout",
     "output_type": "stream",
     "text": [
      "120\n",
      "5 über 2: 10.0\n"
     ]
    }
   ],
   "source": [
    "def fakt(n):\n",
    "    f = 1\n",
    "    while n > 0:\n",
    "        f = f*n\n",
    "        n = n - 1\n",
    "    return f\n",
    "\n",
    "# berechne 5!\n",
    "ergebnis = fakt(5)\n",
    "print(ergebnis)\n",
    "\n",
    "# Binomialkoeffizient\n",
    "b52 = fakt(5)/(fakt(2)*fakt(3))\n",
    "print(\"5 über 2:\",b52)"
   ]
  },
  {
   "cell_type": "markdown",
   "metadata": {},
   "source": [
    "### 1.4 Ein-/Ausgabe\n",
    "Der Befehl `input` fragt eine Eingabe von der Tastatur ab. Als Parameter kann ein Text übergeben werden, den der Befehl auf dem Bildschirm ausgibt. Als Ergebnis liefert der Befehl die Eingabe als Text (Datentyp `str`).\n",
    "\n",
    "Der Befehl `print` erhalt als Parameter das, was auf dem Bildschirm ausgegeben werden soll."
   ]
  },
  {
   "cell_type": "code",
   "execution_count": 19,
   "metadata": {},
   "outputs": [
    {
     "name": "stdout",
     "output_type": "stream",
     "text": [
      "120\n"
     ]
    }
   ],
   "source": [
    "eingabe = input(\"Gebe eine natürliche Zahl ein:\")\n",
    "a = int(eingabe)\n",
    "print(fakt(a))"
   ]
  }
 ],
 "metadata": {
  "kernelspec": {
   "display_name": "Python 3",
   "language": "python",
   "name": "python3"
  },
  "language_info": {
   "codemirror_mode": {
    "name": "ipython",
    "version": 3
   },
   "file_extension": ".py",
   "mimetype": "text/x-python",
   "name": "python",
   "nbconvert_exporter": "python",
   "pygments_lexer": "ipython3",
   "version": "3.12.1"
  },
  "orig_nbformat": 4
 },
 "nbformat": 4,
 "nbformat_minor": 2
}
